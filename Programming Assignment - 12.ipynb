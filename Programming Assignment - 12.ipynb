{
 "cells": [
  {
   "cell_type": "code",
   "execution_count": null,
   "id": "1cc9298c",
   "metadata": {},
   "outputs": [],
   "source": [
    "Question 1"
   ]
  },
  {
   "cell_type": "code",
   "execution_count": 1,
   "id": "e9fb02e9",
   "metadata": {},
   "outputs": [
    {
     "name": "stdout",
     "output_type": "stream",
     "text": [
      "dict_values(['King', 'Queen', 'Knight', 'Soldier', 'Horse', 'Elephant'])\n",
      "Unique Values: ['Queen', 'King', 'Soldier', 'Knight', 'Elephant', 'Horse']\n"
     ]
    }
   ],
   "source": [
    "in_dict = {1:'King',2:'Queen',3:'Knight',4:'Soldier',5:'Horse',6:'Elephant'}\n",
    "print(in_dict.values())\n",
    "print(f'Unique Values: {list(set(in_dict.values()))}')"
   ]
  },
  {
   "cell_type": "code",
   "execution_count": null,
   "id": "ee305900",
   "metadata": {},
   "outputs": [],
   "source": [
    "Question 2"
   ]
  },
  {
   "cell_type": "code",
   "execution_count": 2,
   "id": "4984f18e",
   "metadata": {},
   "outputs": [
    {
     "name": "stdout",
     "output_type": "stream",
     "text": [
      "Sum of All items:  300\n"
     ]
    }
   ],
   "source": [
    "in_dict = {'Apple':10,'Mango':20,'Banana':30,'Guava':40,'PineApple':200}\n",
    "print('Sum of All items: ',sum(in_dict.values()))"
   ]
  },
  {
   "cell_type": "code",
   "execution_count": null,
   "id": "401ec9fb",
   "metadata": {},
   "outputs": [],
   "source": [
    "Question 3"
   ]
  },
  {
   "cell_type": "code",
   "execution_count": 3,
   "id": "7029cb5a",
   "metadata": {},
   "outputs": [
    {
     "name": "stdout",
     "output_type": "stream",
     "text": [
      "{'cousre_name': 'Ineuron', 'course_instructors': ['Sudhanshu Kumar', 'Krish Naik']}\n"
     ]
    }
   ],
   "source": [
    "course_details = {\n",
    "    'cousre_name':'Ineuron'\n",
    "}\n",
    "instructors = {\n",
    "    'course_instructors':['Sudhanshu Kumar','Krish Naik']\n",
    "}\n",
    "course_details.update(instructors)\n",
    "print(course_details)"
   ]
  },
  {
   "cell_type": "code",
   "execution_count": null,
   "id": "a6471953",
   "metadata": {},
   "outputs": [],
   "source": [
    "Question 4"
   ]
  },
  {
   "cell_type": "code",
   "execution_count": 4,
   "id": "b83aec6d",
   "metadata": {},
   "outputs": [
    {
     "name": "stdout",
     "output_type": "stream",
     "text": [
      "{'A': 1, 'B': 2, 'C': 3, 'D': 4, 'E': 5, 'F': 6, 'G': 7, 'H': 8, 'I': 9, 'J': 10}\n"
     ]
    }
   ],
   "source": [
    "in_list = [('A',1),('B',2),('C',3),('D',4),('E',5),('F',6),('G',7),('H',8),('I',9),('J',10)]\n",
    "\n",
    "# Method #1\n",
    "dict(in_list)\n",
    "\n",
    "# Method #2\n",
    "out_dict = {}\n",
    "for ele in in_list:\n",
    "    out_dict[ele[0]] = ele[1]\n",
    "print(out_dict)"
   ]
  },
  {
   "cell_type": "code",
   "execution_count": null,
   "id": "c2258a78",
   "metadata": {},
   "outputs": [],
   "source": [
    "Question 5"
   ]
  },
  {
   "cell_type": "code",
   "execution_count": 5,
   "id": "a5cc7f7e",
   "metadata": {},
   "outputs": [
    {
     "name": "stdout",
     "output_type": "stream",
     "text": [
      "dict_one OrderedDict([('Apple', 'Iphone'), ('Microsoft', 'Windows'), ('Google', 'chrome')])\n",
      "dict_one OrderedDict([('Apple', 'Iphone'), ('Microsoft', 'Windows'), ('Google', 'chrome'), ('Tesla', 'SpaceX')])\n",
      "dict_one OrderedDict([('Tesla', 'SpaceX'), ('Apple', 'Iphone'), ('Microsoft', 'Windows'), ('Google', 'chrome')])\n"
     ]
    }
   ],
   "source": [
    "from collections import OrderedDict\n",
    "dict_one = OrderedDict({'Apple':'Iphone','Microsoft':'Windows','Google':'chrome'})\n",
    "print('dict_one',dict_one)\n",
    "dict_two = {'Tesla':'SpaceX'}\n",
    "dict_one.update(dict_two)\n",
    "print('dict_one',dict_one)\n",
    "dict_one.move_to_end('Tesla',last=False)\n",
    "print('dict_one',dict_one)"
   ]
  },
  {
   "cell_type": "code",
   "execution_count": null,
   "id": "add79a5b",
   "metadata": {},
   "outputs": [],
   "source": [
    "Question 6"
   ]
  },
  {
   "cell_type": "code",
   "execution_count": 6,
   "id": "fb7373c1",
   "metadata": {},
   "outputs": [
    {
     "name": "stdout",
     "output_type": "stream",
     "text": [
      "{'a': 100, 'f': 200, 'd': 300, 'c': 400, 'b': 500, 'e': 600}\n",
      "OrderedDict([('a', 100), ('b', 500), ('c', 400), ('d', 300), ('e', 600), ('f', 200)])\n"
     ]
    }
   ],
   "source": [
    "from collections import OrderedDict\n",
    "\n",
    "initial_list = {'a': 100, 'f': 200, 'd': 300, 'c': 400, 'b': 500, 'e': 600}\n",
    "print(initial_list)\n",
    "\n",
    "final_list = OrderedDict(dict(sorted(initial_list.items())))\n",
    "print(final_list)"
   ]
  },
  {
   "cell_type": "code",
   "execution_count": null,
   "id": "7a3b7364",
   "metadata": {},
   "outputs": [],
   "source": [
    "Question 7"
   ]
  },
  {
   "cell_type": "code",
   "execution_count": 7,
   "id": "de88a392",
   "metadata": {},
   "outputs": [
    {
     "name": "stdout",
     "output_type": "stream",
     "text": [
      "{'Apple': 22, 'Apricot': 100, 'Dragon Fruit': 13, 'Orange': 60}\n",
      "{'Dragon Fruit': 13, 'Apple': 22, 'Orange': 60, 'Apricot': 100}\n"
     ]
    }
   ],
   "source": [
    "d_items = {'Apricot':100,'Apple':22,'Orange':60,'Dragon Fruit':13}\n",
    "\n",
    "def sort_dict(in_dict,sort_type):\n",
    "    if sort_type == 'key':\n",
    "        print(dict(sorted(in_dict.items(), key=lambda x:x[0], reverse=False)))\n",
    "    else:\n",
    "        print(dict(sorted(in_dict.items(), key=lambda x:x[1], reverse=False)))\n",
    "        \n",
    "sort_dict(d_items,'key')        \n",
    "sort_dict(d_items,'value')"
   ]
  }
 ],
 "metadata": {
  "kernelspec": {
   "display_name": "Python 3 (ipykernel)",
   "language": "python",
   "name": "python3"
  },
  "language_info": {
   "codemirror_mode": {
    "name": "ipython",
    "version": 3
   },
   "file_extension": ".py",
   "mimetype": "text/x-python",
   "name": "python",
   "nbconvert_exporter": "python",
   "pygments_lexer": "ipython3",
   "version": "3.9.7"
  }
 },
 "nbformat": 4,
 "nbformat_minor": 5
}
